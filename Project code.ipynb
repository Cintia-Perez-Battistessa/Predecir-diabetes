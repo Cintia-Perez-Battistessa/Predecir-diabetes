{
 "cells": [
  {
   "cell_type": "markdown",
   "metadata": {
    "id": "bL4O9h0lxSMd"
   },
   "source": [
    "# Predecir la diabetes"
   ]
  },
  {
   "cell_type": "markdown",
   "metadata": {},
   "source": [
    "Este proyecto fue creado en grupo en un Bootcamp de Data Scientist. Mis compañeros fueron: Javier Serna Gálvez, Miriam Lamas y Manuel Ruiz."
   ]
  },
  {
   "cell_type": "markdown",
   "metadata": {},
   "source": [
    "<a name=\"code_repository4\"></a>\n",
    "## Índice \n",
    "* [1. Introducción](#item1_r4)\n",
    "* [2. EDA y Procesamiento de Datos](#item2_r4)\n",
    "* [3. SMOTE](#item3_r4)\n",
    "* [4. Determinar el modelo](#item4_r4)\n",
    "* [5. Disminuir dimensionalidad del data set](#item5_r2)\n",
    "    * [5.1. Alternativa 1: sklearn.feature_selection](#item5.1_r2)\n",
    "    * [5.2. Opción 2: permutation_importance ](#item5.2_r2)\n",
    "* [6. Tuning](#item6_r4)\n",
    "* [7. Conclusión](#item7_r4)"
   ]
  },
  {
   "cell_type": "markdown",
   "metadata": {},
   "source": [
    "<a name=\"item1_r4\"></a>\n",
    "## Introducción\n",
    "\n",
    "\n",
    "El propósito de este proyecto es determinar si una persona tiene diabetes o no, utilizando un modelo predictivo entrenado con datos de Estados Unidos. Los datos presentaban un desbalance, ya que había una mayor cantidad de casos negativos (sin diabetes). Para abordar este desbalance, se exploraron dos métodos, SMOTE (oversampling y undersampling), con el objetivo de lograr un equilibrio en los datos.\n",
    "\n",
    "Posteriormente, se evaluaron varios modelos predictivos mediante métricas específicas, y se seleccionó el modelo que mejor se ajustaba a los datos. Los modelos analizados incluyeron:\n",
    "\n",
    "- 'Logistic Regression'\n",
    "- 'Decision Tree'\n",
    "- 'Random Forest'\n",
    "- 'SVM'\n",
    "- 'KNN'\n",
    "- 'Nearest Centroid Classifier'\n",
    "- 'Gaussian Naive Bayes Classifier'\n",
    "\n",
    "El modelo seleccionado fue Random Forest. Luego, se redujo la dimensionalidad del conjunto de datos, identificando y eliminando parámetros con poca variabilidad que no influyeron significativamente en la predicción.\n",
    "\n",
    "Finalmente, se volvió a entrenar el modelo con Random Forest y se realizó un ajuste fino (tuning) para validar y mejorar la efectividad del modelo."
   ]
  },
  {
   "cell_type": "markdown",
   "metadata": {
    "id": "v5kRPwj-xgTA"
   },
   "source": [
    "<a name=\"item2_r4\"></a>\n",
    "## 2. EDA y Procesamiento de Datos"
   ]
  },
  {
   "cell_type": "code",
   "execution_count": 1,
   "metadata": {
    "id": "beOIIWenyW0H"
   },
   "outputs": [],
   "source": [
    "# Importamos librerías\n",
    "import pandas as pd\n",
    "import numpy as np\n",
    "import seaborn as sns\n",
    "import matplotlib.pyplot as plt"
   ]
  },
  {
   "cell_type": "code",
   "execution_count": 2,
   "metadata": {
    "id": "lcw-IFqe4Q1z"
   },
   "outputs": [],
   "source": [
    "# Importamos los datos\n",
    "# Importante cambiar ruta del dataset si es necesario\n",
    "\n",
    "df = pd.read_csv(\"Dataset Diabetes.csv\")"
   ]
  },
  {
   "cell_type": "code",
   "execution_count": 3,
   "metadata": {
    "colab": {
     "base_uri": "https://localhost:8080/"
    },
    "id": "6U5uREcg2say",
    "outputId": "3c6b10dc-fb1d-4f69-ef60-379a6bf54780"
   },
   "outputs": [
    {
     "data": {
      "text/plain": [
       "(253680, 22)"
      ]
     },
     "execution_count": 3,
     "metadata": {},
     "output_type": "execute_result"
    }
   ],
   "source": [
    "# Número de filas y columnas\n",
    "df.shape"
   ]
  },
  {
   "cell_type": "code",
   "execution_count": 4,
   "metadata": {
    "colab": {
     "base_uri": "https://localhost:8080/",
     "height": 299
    },
    "id": "D28B2lFg21Vs",
    "outputId": "ffda9139-a875-4edc-9b2f-5c3e7cc17434"
   },
   "outputs": [
    {
     "data": {
      "text/html": [
       "<div>\n",
       "<style scoped>\n",
       "    .dataframe tbody tr th:only-of-type {\n",
       "        vertical-align: middle;\n",
       "    }\n",
       "\n",
       "    .dataframe tbody tr th {\n",
       "        vertical-align: top;\n",
       "    }\n",
       "\n",
       "    .dataframe thead th {\n",
       "        text-align: right;\n",
       "    }\n",
       "</style>\n",
       "<table border=\"1\" class=\"dataframe\">\n",
       "  <thead>\n",
       "    <tr style=\"text-align: right;\">\n",
       "      <th></th>\n",
       "      <th>Diabetes_012</th>\n",
       "      <th>HighBP</th>\n",
       "      <th>HighChol</th>\n",
       "      <th>CholCheck</th>\n",
       "      <th>BMI</th>\n",
       "      <th>Smoker</th>\n",
       "      <th>Stroke</th>\n",
       "      <th>HeartDiseaseorAttack</th>\n",
       "      <th>PhysActivity</th>\n",
       "      <th>Fruits</th>\n",
       "      <th>...</th>\n",
       "      <th>AnyHealthcare</th>\n",
       "      <th>NoDocbcCost</th>\n",
       "      <th>GenHlth</th>\n",
       "      <th>MentHlth</th>\n",
       "      <th>PhysHlth</th>\n",
       "      <th>DiffWalk</th>\n",
       "      <th>Sex</th>\n",
       "      <th>Age</th>\n",
       "      <th>Education</th>\n",
       "      <th>Income</th>\n",
       "    </tr>\n",
       "  </thead>\n",
       "  <tbody>\n",
       "    <tr>\n",
       "      <th>0</th>\n",
       "      <td>0.0</td>\n",
       "      <td>1.0</td>\n",
       "      <td>1.0</td>\n",
       "      <td>1.0</td>\n",
       "      <td>40.0</td>\n",
       "      <td>1.0</td>\n",
       "      <td>0.0</td>\n",
       "      <td>0.0</td>\n",
       "      <td>0.0</td>\n",
       "      <td>0.0</td>\n",
       "      <td>...</td>\n",
       "      <td>1.0</td>\n",
       "      <td>0.0</td>\n",
       "      <td>5.0</td>\n",
       "      <td>18.0</td>\n",
       "      <td>15.0</td>\n",
       "      <td>1.0</td>\n",
       "      <td>0.0</td>\n",
       "      <td>9.0</td>\n",
       "      <td>4.0</td>\n",
       "      <td>3.0</td>\n",
       "    </tr>\n",
       "    <tr>\n",
       "      <th>1</th>\n",
       "      <td>0.0</td>\n",
       "      <td>0.0</td>\n",
       "      <td>0.0</td>\n",
       "      <td>0.0</td>\n",
       "      <td>25.0</td>\n",
       "      <td>1.0</td>\n",
       "      <td>0.0</td>\n",
       "      <td>0.0</td>\n",
       "      <td>1.0</td>\n",
       "      <td>0.0</td>\n",
       "      <td>...</td>\n",
       "      <td>0.0</td>\n",
       "      <td>1.0</td>\n",
       "      <td>3.0</td>\n",
       "      <td>0.0</td>\n",
       "      <td>0.0</td>\n",
       "      <td>0.0</td>\n",
       "      <td>0.0</td>\n",
       "      <td>7.0</td>\n",
       "      <td>6.0</td>\n",
       "      <td>1.0</td>\n",
       "    </tr>\n",
       "    <tr>\n",
       "      <th>2</th>\n",
       "      <td>0.0</td>\n",
       "      <td>1.0</td>\n",
       "      <td>1.0</td>\n",
       "      <td>1.0</td>\n",
       "      <td>28.0</td>\n",
       "      <td>0.0</td>\n",
       "      <td>0.0</td>\n",
       "      <td>0.0</td>\n",
       "      <td>0.0</td>\n",
       "      <td>1.0</td>\n",
       "      <td>...</td>\n",
       "      <td>1.0</td>\n",
       "      <td>1.0</td>\n",
       "      <td>5.0</td>\n",
       "      <td>30.0</td>\n",
       "      <td>30.0</td>\n",
       "      <td>1.0</td>\n",
       "      <td>0.0</td>\n",
       "      <td>9.0</td>\n",
       "      <td>4.0</td>\n",
       "      <td>8.0</td>\n",
       "    </tr>\n",
       "    <tr>\n",
       "      <th>3</th>\n",
       "      <td>0.0</td>\n",
       "      <td>1.0</td>\n",
       "      <td>0.0</td>\n",
       "      <td>1.0</td>\n",
       "      <td>27.0</td>\n",
       "      <td>0.0</td>\n",
       "      <td>0.0</td>\n",
       "      <td>0.0</td>\n",
       "      <td>1.0</td>\n",
       "      <td>1.0</td>\n",
       "      <td>...</td>\n",
       "      <td>1.0</td>\n",
       "      <td>0.0</td>\n",
       "      <td>2.0</td>\n",
       "      <td>0.0</td>\n",
       "      <td>0.0</td>\n",
       "      <td>0.0</td>\n",
       "      <td>0.0</td>\n",
       "      <td>11.0</td>\n",
       "      <td>3.0</td>\n",
       "      <td>6.0</td>\n",
       "    </tr>\n",
       "    <tr>\n",
       "      <th>4</th>\n",
       "      <td>0.0</td>\n",
       "      <td>1.0</td>\n",
       "      <td>1.0</td>\n",
       "      <td>1.0</td>\n",
       "      <td>24.0</td>\n",
       "      <td>0.0</td>\n",
       "      <td>0.0</td>\n",
       "      <td>0.0</td>\n",
       "      <td>1.0</td>\n",
       "      <td>1.0</td>\n",
       "      <td>...</td>\n",
       "      <td>1.0</td>\n",
       "      <td>0.0</td>\n",
       "      <td>2.0</td>\n",
       "      <td>3.0</td>\n",
       "      <td>0.0</td>\n",
       "      <td>0.0</td>\n",
       "      <td>0.0</td>\n",
       "      <td>11.0</td>\n",
       "      <td>5.0</td>\n",
       "      <td>4.0</td>\n",
       "    </tr>\n",
       "  </tbody>\n",
       "</table>\n",
       "<p>5 rows × 22 columns</p>\n",
       "</div>"
      ],
      "text/plain": [
       "   Diabetes_012  HighBP  HighChol  CholCheck   BMI  Smoker  Stroke  \\\n",
       "0           0.0     1.0       1.0        1.0  40.0     1.0     0.0   \n",
       "1           0.0     0.0       0.0        0.0  25.0     1.0     0.0   \n",
       "2           0.0     1.0       1.0        1.0  28.0     0.0     0.0   \n",
       "3           0.0     1.0       0.0        1.0  27.0     0.0     0.0   \n",
       "4           0.0     1.0       1.0        1.0  24.0     0.0     0.0   \n",
       "\n",
       "   HeartDiseaseorAttack  PhysActivity  Fruits  ...  AnyHealthcare  \\\n",
       "0                   0.0           0.0     0.0  ...            1.0   \n",
       "1                   0.0           1.0     0.0  ...            0.0   \n",
       "2                   0.0           0.0     1.0  ...            1.0   \n",
       "3                   0.0           1.0     1.0  ...            1.0   \n",
       "4                   0.0           1.0     1.0  ...            1.0   \n",
       "\n",
       "   NoDocbcCost  GenHlth  MentHlth  PhysHlth  DiffWalk  Sex   Age  Education  \\\n",
       "0          0.0      5.0      18.0      15.0       1.0  0.0   9.0        4.0   \n",
       "1          1.0      3.0       0.0       0.0       0.0  0.0   7.0        6.0   \n",
       "2          1.0      5.0      30.0      30.0       1.0  0.0   9.0        4.0   \n",
       "3          0.0      2.0       0.0       0.0       0.0  0.0  11.0        3.0   \n",
       "4          0.0      2.0       3.0       0.0       0.0  0.0  11.0        5.0   \n",
       "\n",
       "   Income  \n",
       "0     3.0  \n",
       "1     1.0  \n",
       "2     8.0  \n",
       "3     6.0  \n",
       "4     4.0  \n",
       "\n",
       "[5 rows x 22 columns]"
      ]
     },
     "execution_count": 4,
     "metadata": {},
     "output_type": "execute_result"
    }
   ],
   "source": [
    "# Previsualización del dataframe\n",
    "df.head()"
   ]
  },
  {
   "cell_type": "markdown",
   "metadata": {
    "id": "FgsJy9eN3MYu"
   },
   "source": [
    "**Explicación de las variables**\n",
    "\n",
    "**Diabetes_012**: variable objetivo a predecir. \n",
    "\n",
    "Tiene 3 clases:\n",
    "\n",
    "0 es para no diabetes o sólo diabetes que se produce durante el embarazo.\n",
    "1 es para prediabetes.\n",
    "2 para diabetes.\n",
    "\n",
    "**HighBP**: high blood presure (presión arterial alta) \n",
    "\n",
    "Variable binaria:{0:no, 1:sí}\n",
    "\n",
    "**HighChol**: high cholesterol (colesterol alto) \n",
    "\n",
    " Variable binaria:{0:no, 1:sí}\n",
    "\n",
    "**CholCheck**: chequeo de colesterol en los últimos 5 años \n",
    "\n",
    "Variable binaria:{0:no, 1:sí}\n",
    "\n",
    "**BMI**: Body Mass Index (Índie de Masa Corporal). \n",
    "\n",
    "Se considera un peso normal en el rango entre (18,5 - 24,99).\n",
    "\n",
    "**Smoker**: Fumador \n",
    "\n",
    "Se considera persona fumadora si ha fumado 100 o más cigarros a lo largo de su vida \n",
    "\n",
    "Variable binaria:{0:no, 1:sí}\n",
    "\n",
    "**Stroke**: Si ha tenido alguna vez un derrame cerebral \n",
    "\n",
    "Variable binaria:{0:no, 1:sí}\n",
    "\n",
    "**HeartDiseaseorAttack**: Si ha padecido alguna vez enfermedad coronaria o infarto de miocardio  \n",
    "\n",
    "Variable binaria:{0:no, 1:sí}\n",
    "\n",
    "**PhysActivity**: Actividad física en los últimos 30, sin incluir trabajo\n",
    "\n",
    "Variable binaria:{0:no, 1:sí}\n",
    "\n",
    "**Fruits**: Consume frutas una o más veces por día \n",
    "\n",
    "Variable binaria:{0:no, 1:sí}\n",
    "\n",
    "**Veggies**: Consume vegetales una o más veces por día \n",
    "\n",
    "Variable binaria:{0:no, 1:sí}\n",
    "\n",
    "**HvyAlcoholConsump**: Bebedores (hombres adultos que consumen más de 14 bebidas a la semana y mujeres adultas que consumen más de 7 bebidas a la semana) \n",
    "\n",
    "Variable binaria:{0:no, 1:sí}\n",
    "\n",
    "**AnyHealthcare**: Disponer de cualquier tipo de cobertura sanitaria, incluidos seguros de enfermedad \n",
    "\n",
    "Variable binaria:{0:no, 1:sí}\n",
    "\n",
    "**NoDocbcCost**: En los últimos 12 meses, ¿ha necesitado ir al médico pero no ha podido por motivos económicos? \n",
    "\n",
    "Variable binaria:{0:no, 1:sí}\n",
    "\n",
    "**GenHlth**. Diría que, en general, su salud es (escala 1-5): \n",
    "\n",
    "1 = excelente 2 = muy buena 3 = buena 4 = regular 5 = mala\n",
    "\n",
    "**MentHlth**: Cómo valora su salud mental,que incluye el estrés, la depresión y los problemas con las emociones. Cuantos días de los últimos 30 días su salud mental no fue buena.\n",
    "\n",
    "**PhysHlth**: Cómo valora salud física, que incluye enfermedades y lesiones físicas. Durante cuántos días de los últimos 30 días su salud física no fue buena\n",
    "\n",
    "**DiffWalk**: Si tiene serias dificultades para caminar o subir escaleras = \n",
    "\n",
    "Variable binaria:{0:no, 1:sí}\n",
    "\n",
    "**Sex**: sexo \n",
    "\n",
    "Variable binaria:{0:femenino, 1:masculino}\n",
    "\n",
    "**Age**: edad (escala 1-13). \n",
    "\n",
    "1:[18-24], 2:[25-29], 3[30-34], 4[35-39], 5[40-44], 6:[45-49], 7:[50-54], 8:[59-59], 9:[60-64], 10:[65-69], 11:[70-74], 12:[75:79], 13:[80 en adelante]\n",
    "\n",
    "**Education**: Nivel educativo (escala 1-6). \n",
    "\n",
    "1:Nunca asistieron a la escuela o sólo al jardín de infancia 2:primaria 2:secundaria 3:bachillerato 4:ciclo superior 5:colegio técnico o universidad (1 a 3 años) 6:grado universitario (4 años o más)\n",
    "\n",
    "**Income**: Ingresos (escala 1-8) (valores en dólares):\n",
    "\n",
    "    1:menos de 10000\n",
    "    2:de 10000 a menos de 15000\n",
    "    3:de 15000 a menos de 20000\n",
    "    4:de 20000 a menos de 25000\n",
    "    5:de 25000 a menos de 35000\n",
    "    6:de 35000 a menos de 50000\n",
    "    7:de 50000 a menos de 75000\n",
    "    8:75000 o más\n",
    "    "
   ]
  },
  {
   "cell_type": "code",
   "execution_count": 52,
   "metadata": {
    "colab": {
     "base_uri": "https://localhost:8080/"
    },
    "id": "T-r5Et4s23nP",
    "outputId": "3e22c1b9-34bb-499a-cea6-4f6163205b1c"
   },
   "outputs": [
    {
     "name": "stdout",
     "output_type": "stream",
     "text": [
      "<class 'pandas.core.frame.DataFrame'>\n",
      "RangeIndex: 253680 entries, 0 to 253679\n",
      "Data columns (total 22 columns):\n",
      " #   Column                Non-Null Count   Dtype  \n",
      "---  ------                --------------   -----  \n",
      " 0   Diabetes_012          253680 non-null  float64\n",
      " 1   HighBP                253680 non-null  float64\n",
      " 2   HighChol              253680 non-null  float64\n",
      " 3   CholCheck             253680 non-null  float64\n",
      " 4   BMI                   253680 non-null  float64\n",
      " 5   Smoker                253680 non-null  float64\n",
      " 6   Stroke                253680 non-null  float64\n",
      " 7   HeartDiseaseorAttack  253680 non-null  float64\n",
      " 8   PhysActivity          253680 non-null  float64\n",
      " 9   Fruits                253680 non-null  float64\n",
      " 10  Veggies               253680 non-null  float64\n",
      " 11  HvyAlcoholConsump     253680 non-null  float64\n",
      " 12  AnyHealthcare         253680 non-null  float64\n",
      " 13  NoDocbcCost           253680 non-null  float64\n",
      " 14  GenHlth               253680 non-null  float64\n",
      " 15  MentHlth              253680 non-null  float64\n",
      " 16  PhysHlth              253680 non-null  float64\n",
      " 17  DiffWalk              253680 non-null  float64\n",
      " 18  Sex                   253680 non-null  float64\n",
      " 19  Age                   253680 non-null  float64\n",
      " 20  Education             253680 non-null  float64\n",
      " 21  Income                253680 non-null  float64\n",
      "dtypes: float64(22)\n",
      "memory usage: 42.6 MB\n"
     ]
    }
   ],
   "source": [
    "# Información relativa a cada variable (columna): cantidad de valores no nulos (0) y tipo de dato de cada variable (float)\n",
    "df.info()"
   ]
  },
  {
   "cell_type": "code",
   "execution_count": 55,
   "metadata": {},
   "outputs": [
    {
     "data": {
      "text/plain": [
       "Index(['Diabetes_012', 'HighBP', 'HighChol', 'CholCheck', 'BMI', 'Smoker',\n",
       "       'Stroke', 'HeartDiseaseorAttack', 'PhysActivity', 'Fruits', 'Veggies',\n",
       "       'HvyAlcoholConsump', 'AnyHealthcare', 'NoDocbcCost', 'GenHlth',\n",
       "       'MentHlth', 'PhysHlth', 'DiffWalk', 'Sex', 'Age', 'Education',\n",
       "       'Income'],\n",
       "      dtype='object')"
      ]
     },
     "execution_count": 55,
     "metadata": {},
     "output_type": "execute_result"
    }
   ],
   "source": [
    "df.columns"
   ]
  },
  {
   "cell_type": "code",
   "execution_count": 7,
   "metadata": {
    "id": "GxOcQMTu4CQE"
   },
   "outputs": [],
   "source": [
    "# Transformamos las variables a enteros para mejorar la representación gráfica y el uso de los datos\n",
    "\n",
    "df['Diabetes_012'] = df['Diabetes_012'].astype('int')\n",
    "df['HighBP'] = df['HighBP'].astype('int')\n",
    "df['HighChol'] = df['HighChol'].astype('int')\n",
    "df['CholCheck'] = df['CholCheck'].astype('int')\n",
    "df['BMI'] = df['BMI'].astype('int')\n",
    "df['Smoker'] = df['Smoker'].astype('int')\n",
    "df['Stroke'] = df['Stroke'].astype('int')\n",
    "df['HeartDiseaseorAttack'] = df['HeartDiseaseorAttack'].astype('int')\n",
    "df['PhysActivity'] = df['PhysActivity'].astype('int')\n",
    "df['Fruits'] = df['Fruits'].astype('int')\n",
    "df['Veggies'] = df['Veggies'].astype('int')\n",
    "df['HvyAlcoholConsump'] = df['HvyAlcoholConsump'].astype('int')\n",
    "df['AnyHealthcare'] = df['AnyHealthcare'].astype('int')\n",
    "df['NoDocbcCost'] = df['NoDocbcCost'].astype('int')\n",
    "df['GenHlth'] = df['GenHlth'].astype('int')\n",
    "df['MentHlth'] = df['MentHlth'].astype('int')\n",
    "df['PhysHlth'] = df['PhysHlth'].astype('int')\n",
    "df['DiffWalk'] = df['DiffWalk'].astype('int')\n",
    "df['Sex'] = df['Sex'].astype('int')\n",
    "df['Age'] = df['Age'].astype('int')\n",
    "df['Education'] = df['Education'].astype('int')\n",
    "df['Income'] = df['Income'].astype('int')"
   ]
  },
  {
   "cell_type": "code",
   "execution_count": 8,
   "metadata": {},
   "outputs": [],
   "source": [
    "# Revision:\n",
    "# for col in df.columns:\n",
    "    \n",
    "#     df[col] = df[col].astype(\"int\")"
   ]
  },
  {
   "cell_type": "code",
   "execution_count": 9,
   "metadata": {
    "colab": {
     "base_uri": "https://localhost:8080/",
     "height": 450
    },
    "id": "JzH_zT-f4Hjl",
    "outputId": "b7ac80d6-8120-47c8-c858-08905154df75"
   },
   "outputs": [
    {
     "data": {
      "image/png": "[encoded data removed]",
      "text/plain": [
       "<Figure size 640x480 with 1 Axes>"
      ]
     },
     "metadata": {},
     "output_type": "display_data"
    }
   ],
   "source": [
    "sns.countplot(x = df[\"Diabetes_012\"])\n",
    "\n",
    "plt.show()"
   ]
  },
  {
   "cell_type": "code",
   "execution_count": 10,
   "metadata": {
    "id": "w0Bj0ZPC4M_t"
   },
   "outputs": [],
   "source": [
    "# Convertimos los datos de diabetes a variable binaria sumando los prediabetes (1) a los de diabetes (2)\n",
    "df[\"Diabetes_012\"].replace({2:1},inplace=True)"
   ]
  },
  {
   "cell_type": "code",
   "execution_count": 11,
   "metadata": {
    "id": "uk5vjAcxZeJQ"
   },
   "outputs": [],
   "source": [
    "df = df.rename(columns = {\"Diabetes_012\" : \"Diabetes\"})"
   ]
  },
  {
   "cell_type": "code",
   "execution_count": 12,
   "metadata": {},
   "outputs": [
    {
     "data": {
      "text/html": [
       "<div>\n",
       "<style scoped>\n",
       "    .dataframe tbody tr th:only-of-type {\n",
       "        vertical-align: middle;\n",
       "    }\n",
       "\n",
       "    .dataframe tbody tr th {\n",
       "        vertical-align: top;\n",
       "    }\n",
       "\n",
       "    .dataframe thead th {\n",
       "        text-align: right;\n",
       "    }\n",
       "</style>\n",
       "<table border=\"1\" class=\"dataframe\">\n",
       "  <thead>\n",
       "    <tr style=\"text-align: right;\">\n",
       "      <th></th>\n",
       "      <th>Diabetes</th>\n",
       "      <th>HighBP</th>\n",
       "      <th>HighChol</th>\n",
       "      <th>CholCheck</th>\n",
       "      <th>BMI</th>\n",
       "      <th>Smoker</th>\n",
       "      <th>Stroke</th>\n",
       "      <th>HeartDiseaseorAttack</th>\n",
       "      <th>PhysActivity</th>\n",
       "      <th>Fruits</th>\n",
       "      <th>...</th>\n",
       "      <th>AnyHealthcare</th>\n",
       "      <th>NoDocbcCost</th>\n",
       "      <th>GenHlth</th>\n",
       "      <th>MentHlth</th>\n",
       "      <th>PhysHlth</th>\n",
       "      <th>DiffWalk</th>\n",
       "      <th>Sex</th>\n",
       "      <th>Age</th>\n",
       "      <th>Education</th>\n",
       "      <th>Income</th>\n",
       "    </tr>\n",
       "  </thead>\n",
       "  <tbody>\n",
       "    <tr>\n",
       "      <th>0</th>\n",
       "      <td>0</td>\n",
       "      <td>1</td>\n",
       "      <td>1</td>\n",
       "      <td>1</td>\n",
       "      <td>40</td>\n",
       "      <td>1</td>\n",
       "      <td>0</td>\n",
       "      <td>0</td>\n",
       "      <td>0</td>\n",
       "      <td>0</td>\n",
       "      <td>...</td>\n",
       "      <td>1</td>\n",
       "      <td>0</td>\n",
       "      <td>5</td>\n",
       "      <td>18</td>\n",
       "      <td>15</td>\n",
       "      <td>1</td>\n",
       "      <td>0</td>\n",
       "      <td>9</td>\n",
       "      <td>4</td>\n",
       "      <td>3</td>\n",
       "    </tr>\n",
       "    <tr>\n",
       "      <th>1</th>\n",
       "      <td>0</td>\n",
       "      <td>0</td>\n",
       "      <td>0</td>\n",
       "      <td>0</td>\n",
       "      <td>25</td>\n",
       "      <td>1</td>\n",
       "      <td>0</td>\n",
       "      <td>0</td>\n",
       "      <td>1</td>\n",
       "      <td>0</td>\n",
       "      <td>...</td>\n",
       "      <td>0</td>\n",
       "      <td>1</td>\n",
       "      <td>3</td>\n",
       "      <td>0</td>\n",
       "      <td>0</td>\n",
       "      <td>0</td>\n",
       "      <td>0</td>\n",
       "      <td>7</td>\n",
       "      <td>6</td>\n",
       "      <td>1</td>\n",
       "    </tr>\n",
       "    <tr>\n",
       "      <th>2</th>\n",
       "      <td>0</td>\n",
       "      <td>1</td>\n",
       "      <td>1</td>\n",
       "      <td>1</td>\n",
       "      <td>28</td>\n",
       "      <td>0</td>\n",
       "      <td>0</td>\n",
       "      <td>0</td>\n",
       "      <td>0</td>\n",
       "      <td>1</td>\n",
       "      <td>...</td>\n",
       "      <td>1</td>\n",
       "      <td>1</td>\n",
       "      <td>5</td>\n",
       "      <td>30</td>\n",
       "      <td>30</td>\n",
       "      <td>1</td>\n",
       "      <td>0</td>\n",
       "      <td>9</td>\n",
       "      <td>4</td>\n",
       "      <td>8</td>\n",
       "    </tr>\n",
       "    <tr>\n",
       "      <th>3</th>\n",
       "      <td>0</td>\n",
       "      <td>1</td>\n",
       "      <td>0</td>\n",
       "      <td>1</td>\n",
       "      <td>27</td>\n",
       "      <td>0</td>\n",
       "      <td>0</td>\n",
       "      <td>0</td>\n",
       "      <td>1</td>\n",
       "      <td>1</td>\n",
       "      <td>...</td>\n",
       "      <td>1</td>\n",
       "      <td>0</td>\n",
       "      <td>2</td>\n",
       "      <td>0</td>\n",
       "      <td>0</td>\n",
       "      <td>0</td>\n",
       "      <td>0</td>\n",
       "      <td>11</td>\n",
       "      <td>3</td>\n",
       "      <td>6</td>\n",
       "    </tr>\n",
       "    <tr>\n",
       "      <th>4</th>\n",
       "      <td>0</td>\n",
       "      <td>1</td>\n",
       "      <td>1</td>\n",
       "      <td>1</td>\n",
       "      <td>24</td>\n",
       "      <td>0</td>\n",
       "      <td>0</td>\n",
       "      <td>0</td>\n",
       "      <td>1</td>\n",
       "      <td>1</td>\n",
       "      <td>...</td>\n",
       "      <td>1</td>\n",
       "      <td>0</td>\n",
       "      <td>2</td>\n",
       "      <td>3</td>\n",
       "      <td>0</td>\n",
       "      <td>0</td>\n",
       "      <td>0</td>\n",
       "      <td>11</td>\n",
       "      <td>5</td>\n",
       "      <td>4</td>\n",
       "    </tr>\n",
       "    <tr>\n",
       "      <th>...</th>\n",
       "      <td>...</td>\n",
       "      <td>...</td>\n",
       "      <td>...</td>\n",
       "      <td>...</td>\n",
       "      <td>...</td>\n",
       "      <td>...</td>\n",
       "      <td>...</td>\n",
       "      <td>...</td>\n",
       "      <td>...</td>\n",
       "      <td>...</td>\n",
       "      <td>...</td>\n",
       "      <td>...</td>\n",
       "      <td>...</td>\n",
       "      <td>...</td>\n",
       "      <td>...</td>\n",
       "      <td>...</td>\n",
       "      <td>...</td>\n",
       "      <td>...</td>\n",
       "      <td>...</td>\n",
       "      <td>...</td>\n",
       "      <td>...</td>\n",
       "    </tr>\n",
       "    <tr>\n",
       "      <th>253675</th>\n",
       "      <td>0</td>\n",
       "      <td>1</td>\n",
       "      <td>1</td>\n",
       "      <td>1</td>\n",
       "      <td>45</td>\n",
       "      <td>0</td>\n",
       "      <td>0</td>\n",
       "      <td>0</td>\n",
       "      <td>0</td>\n",
       "      <td>1</td>\n",
       "      <td>...</td>\n",
       "      <td>1</td>\n",
       "      <td>0</td>\n",
       "      <td>3</td>\n",
       "      <td>0</td>\n",
       "      <td>5</td>\n",
       "      <td>0</td>\n",
       "      <td>1</td>\n",
       "      <td>5</td>\n",
       "      <td>6</td>\n",
       "      <td>7</td>\n",
       "    </tr>\n",
       "    <tr>\n",
       "      <th>253676</th>\n",
       "      <td>1</td>\n",
       "      <td>1</td>\n",
       "      <td>1</td>\n",
       "      <td>1</td>\n",
       "      <td>18</td>\n",
       "      <td>0</td>\n",
       "      <td>0</td>\n",
       "      <td>0</td>\n",
       "      <td>0</td>\n",
       "      <td>0</td>\n",
       "      <td>...</td>\n",
       "      <td>1</td>\n",
       "      <td>0</td>\n",
       "      <td>4</td>\n",
       "      <td>0</td>\n",
       "      <td>0</td>\n",
       "      <td>1</td>\n",
       "      <td>0</td>\n",
       "      <td>11</td>\n",
       "      <td>2</td>\n",
       "      <td>4</td>\n",
       "    </tr>\n",
       "    <tr>\n",
       "      <th>253677</th>\n",
       "      <td>0</td>\n",
       "      <td>0</td>\n",
       "      <td>0</td>\n",
       "      <td>1</td>\n",
       "      <td>28</td>\n",
       "      <td>0</td>\n",
       "      <td>0</td>\n",
       "      <td>0</td>\n",
       "      <td>1</td>\n",
       "      <td>1</td>\n",
       "      <td>...</td>\n",
       "      <td>1</td>\n",
       "      <td>0</td>\n",
       "      <td>1</td>\n",
       "      <td>0</td>\n",
       "      <td>0</td>\n",
       "      <td>0</td>\n",
       "      <td>0</td>\n",
       "      <td>2</td>\n",
       "      <td>5</td>\n",
       "      <td>2</td>\n",
       "    </tr>\n",
       "    <tr>\n",
       "      <th>253678</th>\n",
       "      <td>0</td>\n",
       "      <td>1</td>\n",
       "      <td>0</td>\n",
       "      <td>1</td>\n",
       "      <td>23</td>\n",
       "      <td>0</td>\n",
       "      <td>0</td>\n",
       "      <td>0</td>\n",
       "      <td>0</td>\n",
       "      <td>1</td>\n",
       "      <td>...</td>\n",
       "      <td>1</td>\n",
       "      <td>0</td>\n",
       "      <td>3</td>\n",
       "      <td>0</td>\n",
       "      <td>0</td>\n",
       "      <td>0</td>\n",
       "      <td>1</td>\n",
       "      <td>7</td>\n",
       "      <td>5</td>\n",
       "      <td>1</td>\n",
       "    </tr>\n",
       "    <tr>\n",
       "      <th>253679</th>\n",
       "      <td>1</td>\n",
       "      <td>1</td>\n",
       "      <td>1</td>\n",
       "      <td>1</td>\n",
       "      <td>25</td>\n",
       "      <td>0</td>\n",
       "      <td>0</td>\n",
       "      <td>1</td>\n",
       "      <td>1</td>\n",
       "      <td>1</td>\n",
       "      <td>...</td>\n",
       "      <td>1</td>\n",
       "      <td>0</td>\n",
       "      <td>2</td>\n",
       "      <td>0</td>\n",
       "      <td>0</td>\n",
       "      <td>0</td>\n",
       "      <td>0</td>\n",
       "      <td>9</td>\n",
       "      <td>6</td>\n",
       "      <td>2</td>\n",
       "    </tr>\n",
       "  </tbody>\n",
       "</table>\n",
       "<p>253680 rows × 22 columns</p>\n",
       "</div>"
      ],
      "text/plain": [
       "        Diabetes  HighBP  HighChol  CholCheck  BMI  Smoker  Stroke  \\\n",
       "0              0       1         1          1   40       1       0   \n",
       "1              0       0         0          0   25       1       0   \n",
       "2              0       1         1          1   28       0       0   \n",
       "3              0       1         0          1   27       0       0   \n",
       "4              0       1         1          1   24       0       0   \n",
       "...          ...     ...       ...        ...  ...     ...     ...   \n",
       "253675         0       1         1          1   45       0       0   \n",
       "253676         1       1         1          1   18       0       0   \n",
       "253677         0       0         0          1   28       0       0   \n",
       "253678         0       1         0          1   23       0       0   \n",
       "253679         1       1         1          1   25       0       0   \n",
       "\n",
       "        HeartDiseaseorAttack  PhysActivity  Fruits  ...  AnyHealthcare  \\\n",
       "0                          0             0       0  ...              1   \n",
       "1                          0             1       0  ...              0   \n",
       "2                          0             0       1  ...              1   \n",
       "3                          0             1       1  ...              1   \n",
       "4                          0             1       1  ...              1   \n",
       "...                      ...           ...     ...  ...            ...   \n",
       "253675                     0             0       1  ...              1   \n",
       "253676                     0             0       0  ...              1   \n",
       "253677                     0             1       1  ...              1   \n",
       "253678                     0             0       1  ...              1   \n",
       "253679                     1             1       1  ...              1   \n",
       "\n",
       "        NoDocbcCost  GenHlth  MentHlth  PhysHlth  DiffWalk  Sex  Age  \\\n",
       "0                 0        5        18        15         1    0    9   \n",
       "1                 1        3         0         0         0    0    7   \n",
       "2                 1        5        30        30         1    0    9   \n",
       "3                 0        2         0         0         0    0   11   \n",
       "4                 0        2         3         0         0    0   11   \n",
       "...             ...      ...       ...       ...       ...  ...  ...   \n",
       "253675            0        3         0         5         0    1    5   \n",
       "253676            0        4         0         0         1    0   11   \n",
       "253677            0        1         0         0         0    0    2   \n",
       "253678            0        3         0         0         0    1    7   \n",
       "253679            0        2         0         0         0    0    9   \n",
       "\n",
       "        Education  Income  \n",
       "0               4       3  \n",
       "1               6       1  \n",
       "2               4       8  \n",
       "3               3       6  \n",
       "4               5       4  \n",
       "...           ...     ...  \n",
       "253675          6       7  \n",
       "253676          2       4  \n",
       "253677          5       2  \n",
       "253678          5       1  \n",
       "253679          6       2  \n",
       "\n",
       "[253680 rows x 22 columns]"
      ]
     },
     "execution_count": 12,
     "metadata": {},
     "output_type": "execute_result"
    }
   ],
   "source": [
    "df"
   ]
  },
  {
   "cell_type": "code",
   "execution_count": 13,
   "metadata": {},
   "outputs": [
    {
     "name": "stdout",
     "output_type": "stream",
     "text": [
      "Antes de eliminar duplicados: 253680\n",
      "Después de eliminar duplicados: 229712\n"
     ]
    }
   ],
   "source": [
    "# REVISION: Eliminamos repetidos\n",
    "\n",
    "print(f\"Antes de eliminar duplicados: {df.shape[0]}\")\n",
    "\n",
    "df = df.drop_duplicates()\n",
    "\n",
    "print(f\"Después de eliminar duplicados: {df.shape[0]}\")"
   ]
  },
  {
   "cell_type": "markdown",
   "metadata": {
    "id": "CtQU0lrO4_aA"
   },
   "source": [
    "<a name=\"item3_r4\"></a>\n",
    "## 3. SMOTE\n",
    "\n",
    "Hay un desequilibrio de la variable objetivo (Diabetes). Por tal motivo, se decide aplicar dos métodos SMOTE (oversampling y undersampling) a fin de lograr el equilibrio. \n",
    "\n",
    "A partir de oversampling se aumenta aleatoriamente los registros de la clase minoritaria al replicarlos. Mientras que undersampling se eliminan algunos registros de la clase mayoritaria. \n"
   ]
  },
  {
   "cell_type": "code",
   "execution_count": 14,
   "metadata": {
    "id": "BfIhG1Lm47Ko"
   },
   "outputs": [],
   "source": [
    "from imblearn.over_sampling import SMOTE \n",
    "from imblearn.under_sampling import RandomUnderSampler\n",
    "from collections import Counter"
   ]
  },
  {
   "cell_type": "code",
   "execution_count": 15,
   "metadata": {
    "id": "Ht57abIc5IQG"
   },
   "outputs": [],
   "source": [
    "# Function that applies oversampling to a dataset\n",
    "\n",
    "# Input: X matrix of data, y array of labels, \n",
    "#        strategy float to set the sampling straegy\n",
    "\n",
    "# Output: X_balanced matrix of data after oversampling, \n",
    "#         y_balanced array of labels after overrsampling\n",
    "\n",
    "def oversampling(X, y, strategy):\n",
    "\n",
    "    oversampler = SMOTE(sampling_strategy = strategy)\n",
    "    X_balanced, y_balanced = oversampler.fit_resample(X, y)\n",
    "    \n",
    "    return X_balanced, y_balanced"
   ]
  },
  {
   "cell_type": "code",
   "execution_count": 16,
   "metadata": {
    "id": "CBhO3spr5L26"
   },
   "outputs": [],
   "source": [
    "# Function that applies undersampling to a dataset\n",
    "\n",
    "# Input: X matrix of data, y array of labels, \n",
    "#        strategy float to set the sampling strategy\n",
    "\n",
    "# Output: X_balanced matrix of data after undersampling, \n",
    "#         y_balanced array of labels after undersampling\n",
    "\n",
    "def undersampling(X, y, strategy):\n",
    "\n",
    "    undersampler = RandomUnderSampler(sampling_strategy = strategy) \n",
    "    X_balanced, y_balanced = undersampler.fit_resample(X, y)\n",
    "    \n",
    "    return X_balanced, y_balanced"
   ]
  },
  {
   "cell_type": "code",
   "execution_count": 17,
   "metadata": {
    "id": "KZG-e2MK5Xf4"
   },
   "outputs": [],
   "source": [
    "# Function that applies first undersampling and then applies\n",
    "# oversampling to a dataset\n",
    "\n",
    "# Input: X matrix of data, y array of labels,\n",
    "#        strategy_over float to set the sampling strategy to oversampling\n",
    "#        strategy_under float to set the sampling strategy to undersampling\n",
    "\n",
    "# Output: X matrix of data after sampling,\n",
    "#         y array of labels after sampling\n",
    "\n",
    "def hibridsampling(X, y, strategy_over, strategy_under):#Determinar conjuto Train y Test\n",
    "\n",
    "    print(\"Before SMOTE\")\n",
    "    print(Counter(y))\n",
    "    sns.countplot(x = y)\n",
    "    plt.show()\n",
    "    print()\n",
    "    \n",
    "    X, y = undersampling(X,y,strategy_under)\n",
    "    \n",
    "    print(\"Afert undersampling\")\n",
    "    print(Counter(y))\n",
    "    \n",
    "    X, y = oversampling(X,y,strategy_over)\n",
    "    \n",
    "    print(\"After oversampling\")\n",
    "    print(Counter(y))\n",
    "    print()\n",
    "    \n",
    "    print(\"Afert SMOTE\")\n",
    "    print(Counter(y))\n",
    "    sns.countplot(x = y)\n",
    "    plt.show()\n",
    "    \n",
    "    return X,y"
   ]
  },
  {
   "cell_type": "markdown",
   "metadata": {
    "id": "1NdVs1RIyXLf"
   },
   "source": [
    "<a name=\"item4_r4\"></a>\n",
    "## 4. Determinar el modelo\n",
    "\n",
    "Se analizan diferentes modelos de machine learning. Se eligen el modelo apropiado para el dataset de Diabetes. "
   ]
  },
  {
   "cell_type": "code",
   "execution_count": 18,
   "metadata": {
    "id": "ZyDW5uvNZ9dD"
   },
   "outputs": [],
   "source": [
    "def Determinar_Xy (df, objetivo):\n",
    "    \n",
    "    X = df.drop(objetivo, axis = 1) \n",
    "    y = df[objetivo]\n",
    "    \n",
    "    #Sampling\n",
    "   \n",
    "    X,y = hibridsampling(X, y, 0.6, 0.3)\n",
    "    \n",
    "    return X, y"
   ]
  },
  {
   "cell_type": "code",
   "execution_count": 19,
   "metadata": {},
   "outputs": [],
   "source": [
    "# REVISION: Modifiqué el total de elementos de oversampling y undersampling"
   ]
  },
  {
   "cell_type": "code",
   "execution_count": null,
   "metadata": {
    "id": "RB1r94-LaBO3"
   },
   "outputs": [
    {
     "name": "stdout",
     "output_type": "stream",
     "text": [
      "Before SMOTE\n",
      "Counter({0: 190055, 1: 39657})\n"
     ]
    },
    {
     "data": {
      "image/png": "[encoded data removed]",
      "text/plain": [
       "<Figure size 640x480 with 1 Axes>"
      ]
     },
     "metadata": {},
     "output_type": "display_data"
    },
    {
     "name": "stdout",
     "output_type": "stream",
     "text": [
      "\n",
      "Afert undersampling\n",
      "Counter({0: 132190, 1: 39657})\n"
     ]
    }
   ],
   "source": [
    "X,y = Determinar_Xy (df,\"Diabetes\")\n",
    "\n",
    "print(f\"X.shape = {X.shape}\")\n",
    "print(f\"y.shape = {y.shape}\")"
   ]
  },
  {
   "cell_type": "code",
   "execution_count": null,
   "metadata": {},
   "outputs": [],
   "source": [
    "#X.to_csv('x.csv') \n",
    "#y.to_csv('y.csv') "
   ]
  },
  {
   "cell_type": "code",
   "execution_count": null,
   "metadata": {
    "id": "LCqwbk05yhNM"
   },
   "outputs": [],
   "source": [
    "#Funcion para normalizar y determinar datos de entrenamiento y ensayo.\n",
    "\n",
    "def etapa_inicial_ML (X,y):\n",
    "    \n",
    "    #Normalizar\n",
    "    \n",
    "    from sklearn.preprocessing import MinMaxScaler\n",
    "\n",
    "    x_scaler = MinMaxScaler()\n",
    "    X = x_scaler.fit_transform(X)\n",
    "    \n",
    "    #print(f\" X normalizado {X}\")\n",
    "    \n",
    "    from sklearn.model_selection import train_test_split\n",
    "    \n",
    "    #Determinar conjuto Train y Test\n",
    "\n",
    "    X_train, X_test, y_train, y_test = train_test_split(X, y, test_size=0.2, stratify=y, random_state=42) #stratify =y, div equitalita de datos en train y test\n",
    "    \n",
    "    print(f\"X_train: {X_train.shape}, y_train: {y_train.shape}\")\n",
    "    print(f\"X_test: {X_test.shape},  y_test: {y_test.shape}\")\n",
    "\n",
    "    return X_train, X_test, y_train, y_test"
   ]
  },
  {
   "cell_type": "code",
   "execution_count": null,
   "metadata": {
    "id": "2fC9NO2UaOpH"
   },
   "outputs": [],
   "source": [
    "X_train, X_test, y_train, y_test = etapa_inicial_ML (X,y)"
   ]
  },
  {
   "cell_type": "code",
   "execution_count": null,
   "metadata": {
    "id": "EQbHX3Bjys2Z"
   },
   "outputs": [],
   "source": [
    "#Funcion para encontrar la cantidad de vecinos (k) con mejor accuracy\n",
    "\n",
    "def best_k (X_train, y_train, X_test, y_test):\n",
    "\n",
    "    from sklearn.metrics import accuracy_score\n",
    "    \n",
    "    from sklearn.neighbors import KNeighborsClassifier\n",
    "    \n",
    "    list_accuracy = list()\n",
    "\n",
    "    for k in range(1, 50):\n",
    "    \n",
    "        # Modelo\n",
    "        model = KNeighborsClassifier(n_neighbors = k)\n",
    "        model.fit(X_train, y_train)\n",
    "\n",
    "        # Predicciones\n",
    "        yhat = model.predict(X_test)\n",
    "\n",
    "        # Métricas\n",
    "        accuracy = accuracy_score(y_test, yhat)\n",
    "        list_accuracy.append([k, accuracy])\n",
    "\n",
    "        #print(f\"k: {k}, Acurracy. {accuracy}\")\n",
    "        \n",
    "    list_accuracy = np.array(list_accuracy)\n",
    "    \n",
    "    plt.figure(figsize = (10, 7))\n",
    "\n",
    "    plt.plot(list_accuracy[:, 1])\n",
    "\n",
    "    plt.ylabel(\"Accuracy\")\n",
    "    plt.xlabel(\"Number of Neighbors (K)\")\n",
    "\n",
    "    plt.show()\n",
    "    \n",
    "    mejor_indice = int(list_accuracy[np.argmax(list_accuracy[:, 1]),0])\n",
    "    \n",
    "    print (f\"La mejor k es {mejor_indice} con un accuraccy de {max(list_accuracy[:, 1])}\")\n",
    "    \n",
    "    return mejor_indice"
   ]
  },
  {
   "cell_type": "code",
   "execution_count": null,
   "metadata": {
    "id": "KwXbV8lRys8Z"
   },
   "outputs": [],
   "source": [
    "#Función que determina las métricas para modelo. \n",
    "#Según las métricas obtenidas, se determina el mejor modelo para el dataset.\n",
    "#Retorna un DataFrame con el accuracy y sensibilidad de cada modelo \n",
    "\n",
    "def mejor_modelo (X_train, X_test, y_train, y_test, modelo): \n",
    "    \n",
    "    from sklearn.metrics import accuracy_score\n",
    "    \n",
    "    #Se guardaran los modelos con su sensibilidad y su accuracy\n",
    "    different_models = [] \n",
    "\n",
    "    for n in modelo.keys():\n",
    "        \n",
    "        print()\n",
    "        print(f\"Modelo {n}:\")\n",
    "\n",
    "        if n == \"KNN\":\n",
    "            \n",
    "            k = best_k (X_train, y_train, X_test, y_test)\n",
    "            \n",
    "            model = modelo[n].set_params(**{\"n_neighbors\" : k}) #.set_params recibe un diccionario con los parametros.\n",
    "            \n",
    "            #model = KNeighborsClassifier(n_neighbors = k)\n",
    "\n",
    "        else:\n",
    "\n",
    "            model = modelo[n]\n",
    "            \n",
    "            k = np.nan\n",
    "\n",
    "        #entrenar modelo\n",
    "        model.fit(X_train, y_train)\n",
    "\n",
    "        #ensayar modelo\n",
    "        yhat = model.predict(X_test)\n",
    "        \n",
    "        #accuracy y sensibilidad\n",
    "        accuracy, sensibilidad = metricas (yhat,y_test)\n",
    "        \n",
    "        print()\n",
    "        print(\"******\"*10)\n",
    "        print()\n",
    "            \n",
    "        different_models.append([n, model, k, accuracy, sensibilidad])    \n",
    "        \n",
    "    different_models = pd.DataFrame(data = different_models, columns = (\"Model\", \"Trained model\", \"k Parameter (KNN)\", \"Accuracy\", \"Recall\"))\n",
    "    \n",
    "    return different_models, X, y"
   ]
  },
  {
   "cell_type": "code",
   "execution_count": null,
   "metadata": {
    "id": "a8JuR0kAytBy"
   },
   "outputs": [],
   "source": [
    "def metricas (yhat,y_test):\n",
    "    \n",
    "    # Metricas\n",
    "    from sklearn.metrics import jaccard_score\n",
    "    from sklearn.metrics import accuracy_score\n",
    "    from sklearn.metrics import precision_score\n",
    "    from sklearn.metrics import recall_score\n",
    "    from sklearn.metrics import f1_score\n",
    "    from sklearn.metrics import roc_auc_score\n",
    "\n",
    "    from sklearn.metrics import confusion_matrix\n",
    "    from sklearn.metrics import classification_report\n",
    "\n",
    "    from sklearn.metrics import roc_curve\n",
    "    from sklearn.metrics import auc\n",
    "   \n",
    "    try:\n",
    "        print(\"Jaccard Index:\", jaccard_score(y_test, yhat))\n",
    "    except:\n",
    "        pass\n",
    "    \n",
    "    try:\n",
    "        print(\"Accuracy:\"     , accuracy_score(y_test, yhat))\n",
    "    except:\n",
    "        pass\n",
    "    \n",
    "    try:\n",
    "        print(\"Precisión:\"    , precision_score(y_test, yhat, average = \"macro\"))\n",
    "    except:\n",
    "        pass\n",
    "    \n",
    "    try:\n",
    "        print(\"Sensibilidad:\" , recall_score(y_test, yhat, average = \"macro\"))\n",
    "    except:\n",
    "        Sensibilidad = \"Error\"\n",
    "    \n",
    "    try:\n",
    "        print(\"F1-score:\"     , f1_score(y_test, yhat, average = \"macro\"))\n",
    "    except:\n",
    "        pass\n",
    "    \n",
    "    print()\n",
    "    \n",
    "    try:\n",
    "        print(f\"Matriz de confusion: \\n{confusion_matrix(y_test, yhat)}\")\n",
    "    except:\n",
    "        pass\n",
    "    \n",
    "    print()\n",
    "        \n",
    "    try:\n",
    "        print(classification_report(y_test, yhat, digits = 3)) \n",
    "    except:\n",
    "        pass\n",
    "    \n",
    "    try:\n",
    "        print(np.round(model.predict_proba(X_test), 3))\n",
    "    except:\n",
    "        pass\n",
    "    \n",
    "    return accuracy_score(y_test, yhat), recall_score(y_test, yhat, average = \"macro\")"
   ]
  },
  {
   "cell_type": "code",
   "execution_count": null,
   "metadata": {
    "colab": {
     "base_uri": "https://localhost:8080/"
    },
    "id": "Yjvy6DWysywd",
    "outputId": "744d98ae-ec32-41aa-e5b3-252b9f177a4d"
   },
   "outputs": [],
   "source": [
    "#Introducir los modelos adecuados para el dataset\n",
    "\n",
    "from sklearn.neighbors import KNeighborsClassifier\n",
    "from sklearn.neighbors import NearestCentroid\n",
    "from sklearn.linear_model import LogisticRegression \n",
    "from sklearn.tree import DecisionTreeClassifier \n",
    "from sklearn.ensemble import RandomForestClassifier \n",
    "from sklearn.svm import SVC \n",
    "from sklearn.neighbors import KNeighborsClassifier\n",
    "from sklearn.naive_bayes import GaussianNB\n",
    "from sklearn.neighbors import NearestCentroid\n",
    "\n",
    "modelo = { 'Logistic Regression':              LogisticRegression(random_state=42),\n",
    "           'Decision Tree':                    DecisionTreeClassifier(random_state=42), \n",
    "           'Random Forest':                    RandomForestClassifier(random_state=42), \n",
    "#            'SVM':                              SVC(random_state=42), \n",
    "#            'KNN':                              KNeighborsClassifier(),\n",
    "#            'Nearest Centroid Classifier' :     NearestCentroid(),\n",
    "           'Gaussian Naive Bayes Classifier' : GaussianNB()} \n",
    "\n",
    "op_modelos, X, y = mejor_modelo(X_train, X_test, y_train, y_test, modelo) #colocar la columna objetivo para predecir"
   ]
  },
  {
   "cell_type": "code",
   "execution_count": null,
   "metadata": {},
   "outputs": [],
   "source": [
    "#Guardar dataframe\n",
    "#op_modelos.to_csv('Opciones_Modelos.csv') "
   ]
  },
  {
   "cell_type": "code",
   "execution_count": null,
   "metadata": {
    "id": "HiXfsoootHMW"
   },
   "outputs": [],
   "source": [
    "# REVISION: Quite los modelos que tardan mas\n",
    "op_modelos"
   ]
  },
  {
   "cell_type": "code",
   "execution_count": null,
   "metadata": {
    "id": "-SZClzFGtH8X"
   },
   "outputs": [],
   "source": [
    "# Al estar prediciendo una enfermedad (la diabetes), la metrica de mayor interés es la sensibilidad, seguida de la accuracy.\n",
    "# Se imprimen los dos mejores modelos.\n",
    "\n",
    "op_modelos.sort_values(by = [\"Recall\", \"Accuracy\"], ascending = False).head(2)"
   ]
  },
  {
   "cell_type": "code",
   "execution_count": null,
   "metadata": {
    "id": "X57vlfzoan19"
   },
   "outputs": [],
   "source": [
    "#Seleccionar el mejor modelo\n",
    "\n",
    "mejor_modelo = op_modelos.sort_values( by = [\"Recall\", \"Accuracy\"], ascending = False).head(1)\n",
    "mejor_modelo.reset_index(drop= True, inplace = True)\n",
    "\n",
    "#Ajustar el DataFrame\n",
    "\n",
    "mejor_modelo = mejor_modelo.drop(\"k Parameter (KNN)\", axis = 1)\n",
    "mejor_modelo = mejor_modelo.drop(\"Model\", axis = 1)\n",
    "\n",
    "mejor_modelo[\"Option: Dimensionality reduction\"] = \"None (original dataset)\"\n",
    "mejor_modelo[\"Dataset dimension\"] = X_train.shape[1]"
   ]
  },
  {
   "cell_type": "code",
   "execution_count": null,
   "metadata": {
    "id": "HAMia6-PapBw"
   },
   "outputs": [],
   "source": [
    "#El mejor modelo es: Random Forest\n",
    "mejor_modelo"
   ]
  },
  {
   "cell_type": "markdown",
   "metadata": {
    "id": "Er81wuFBVscW"
   },
   "source": [
    "<a name=\"item5_r4\"></a>\n",
    "### 5. Disminuir dimensionalidad del dataset\n"
   ]
  },
  {
   "cell_type": "markdown",
   "metadata": {
    "id": "K1qKFXjAVzKC"
   },
   "source": [
    "<a name=\"item5.1_r4\"></a>\n",
    "#### 5.1.- Alternativa 1: sklearn.feature_selection\n",
    "\n",
    "Se considera que las columnas que posean poca varianza, no influyen en la predicción. Entonces, se eliminan.\n",
    "\n",
    "Posteriormente, se entrena el modelo y se analiza sus métricas. \n",
    "\n",
    "\n",
    "\n",
    "\n",
    "\n",
    "\n"
   ]
  },
  {
   "cell_type": "code",
   "execution_count": null,
   "metadata": {
    "colab": {
     "base_uri": "https://localhost:8080/",
     "height": 218
    },
    "id": "XrmQo5lZWTyn",
    "outputId": "24bb7805-e9cb-4957-fbbd-b485e6bf67f3"
   },
   "outputs": [],
   "source": [
    "def Feature_selection (X):\n",
    "    \n",
    "    import sklearn.feature_selection as fs\n",
    "\n",
    "    var = fs.VarianceThreshold(threshold=0.3)\n",
    "    var.fit(X)\n",
    "    X_trans = var.transform(X)\n",
    "    \n",
    "    #Nueva X\n",
    "    print(\"Before 'feature_selection'\")\n",
    "    print()\n",
    "    print(f\"X shape: {X.shape}\")\n",
    "    print(f\"Dataset dimension: {X.shape[1]}\")\n",
    "    print()\n",
    "    print(\"******\"*18)\n",
    "    print()\n",
    "    print(\"After 'feature_selection'\")\n",
    "    print()\n",
    "    print(f\"X shape: {X_trans.shape}\")\n",
    "    print(f\"Dataset dimension: {X_trans.shape[1]}\")\n",
    "    print()\n",
    "    \n",
    "    col_eliminadas = []\n",
    "    col_seleccionadas = []\n",
    "    \n",
    "    #Columnas seleccionadas = var.get_support()\n",
    "    \n",
    "    for col,name in zip (var.get_support(),X.columns):\n",
    "          \n",
    "        if col == False:\n",
    "              \n",
    "            col_eliminadas.append(name)\n",
    "        \n",
    "        else:\n",
    "            \n",
    "            col_seleccionadas.append(name)\n",
    "            \n",
    "    print(\"The removed columns are:\")\n",
    "    print()\n",
    "    \n",
    "    for i in col_eliminadas:\n",
    "        \n",
    "        print(i)\n",
    "\n",
    "    return X_trans,col_seleccionadas"
   ]
  },
  {
   "cell_type": "code",
   "execution_count": null,
   "metadata": {
    "id": "b18GKJErbTJF"
   },
   "outputs": [],
   "source": [
    "X_trans, col_seleccionadas = Feature_selection (X)"
   ]
  },
  {
   "cell_type": "code",
   "execution_count": null,
   "metadata": {},
   "outputs": [],
   "source": [
    "print(f\"X.shape = {X.shape}\")\n",
    "print(f\"X_trans.shape = {X_trans.shape}\")\n",
    "print(f\"y.shape = {y.shape}\")"
   ]
  },
  {
   "cell_type": "code",
   "execution_count": null,
   "metadata": {
    "id": "A4DO-9qubUBS"
   },
   "outputs": [],
   "source": [
    "#Eliminar las columnas con poca varianza de X_train, X_test\n",
    "\n",
    "indice = []\n",
    "col_seleccionadas_string = str()\n",
    "\n",
    "for i,index in zip (X.columns, range(X.shape[1])):\n",
    "    \n",
    "        if i not in col_seleccionadas:\n",
    "            \n",
    "            indice.append(index)\n",
    "            \n",
    "        else:\n",
    "            col_seleccionadas_string += i\n",
    "            col_seleccionadas_string += \", \"\n",
    "\n",
    "X_train_1 = np.delete(X_train, indice, axis=1)\n",
    "X_test_1  = np.delete(X_test, indice, axis=1)"
   ]
  },
  {
   "cell_type": "code",
   "execution_count": null,
   "metadata": {
    "id": "n1buLJy9bYDO"
   },
   "outputs": [],
   "source": [
    "X_train_1.shape"
   ]
  },
  {
   "cell_type": "code",
   "execution_count": null,
   "metadata": {
    "id": "tO2EeMI4baqT"
   },
   "outputs": [],
   "source": [
    "X_test_1.shape"
   ]
  },
  {
   "cell_type": "code",
   "execution_count": null,
   "metadata": {},
   "outputs": [],
   "source": [
    "# REVISION: Se pueden quitar las columnas de X y volver a hacer train_test_split"
   ]
  },
  {
   "cell_type": "code",
   "execution_count": null,
   "metadata": {
    "id": "BdRXT4UNbc4n"
   },
   "outputs": [],
   "source": [
    "#Modelo\n",
    "model = RandomForestClassifier(random_state=42)\n",
    "\n",
    "model.fit(X_train_1,y_train)\n",
    "        \n",
    "#ensayar modelo\n",
    "yhat = model.predict(X_test_1)"
   ]
  },
  {
   "cell_type": "code",
   "execution_count": null,
   "metadata": {
    "id": "NpyiAOVKbk6Q"
   },
   "outputs": [],
   "source": [
    "accuracy, sensibilidad = metricas (yhat,y_test)\n",
    "\n",
    "mejor_modelo_op1 = pd.DataFrame({\"Option: Dimensionality reduction\": \" sklearn.feature_selection\",\"Trained model\": model, \"Accuracy\": accuracy, \"Recall\": sensibilidad, \"Dataset dimension\" : len(col_seleccionadas), \"Selected features\": col_seleccionadas_string}).head(1)\n",
    "\n",
    "mejor_modelo_op1"
   ]
  },
  {
   "cell_type": "markdown",
   "metadata": {
    "id": "CA1xPuJFcvFo"
   },
   "source": [
    "Al eliminar las columnas con poca varianza, el dataset final posee una dimensionalidad de 12 columnas (8 columnas menos que el dataset original).\n",
    "\n",
    "Luego de entrenar y ensayar el modelo, se observo que las métricas (Accuracy y Sensilidad) disminuyen levemente a comparación con el dataset original. Al estar prediciendo la salud de las personas, se considera que la disminución de dimensionalidad, no compensa la perdida de accuracy y sensibilidad."
   ]
  },
  {
   "cell_type": "markdown",
   "metadata": {
    "id": "axX1OzPPZ27z"
   },
   "source": [
    "<a name=\"item5.2_r4\"></a>\n",
    "#### 5.2.-Opción 2: permutation_importance\n",
    "\n",
    "1.- Se determina la importancia de las columnas a partir de la función de permutación.\n",
    "\n",
    "2.- De manera secuencial, se eliminan columnas del dataset (desde la menos importante, hasta las columnas de mayor peso en la predicción). Se calcula la accuracy y la sensibilidad para cada caso.\n",
    "\n",
    "3.- Se determinar que columnas se deben eliminar del dataset para obtener las mejores métricas."
   ]
  },
  {
   "cell_type": "code",
   "execution_count": null,
   "metadata": {
    "id": "4PDzT-EkahQo"
   },
   "outputs": [],
   "source": [
    "def Permutation_importance (model, X_test, y_test, X):\n",
    "    from sklearn.inspection import permutation_importance\n",
    "\n",
    "    #Importancias de las columnas \n",
    "    result = permutation_importance(model, X_test, y_test) #parámetros: modelo entrenado, y datos no usados para el entrenamiento\n",
    "\n",
    "    #Media de la importancia de la características (columnas) ordenadas\n",
    "    perm_importances = result.importances_mean \n",
    "    #Ordenado\n",
    "    sorted_idx = perm_importances.argsort()\n",
    "\n",
    "    #Desviación estándar \n",
    "    perm_std = result.importances_std\n",
    "\n",
    "    #Nombre de las columnas\n",
    "    feature_names = X.columns\n",
    "    \n",
    "    #Dataframe con la importancia de las columnas (ordenadas de mayor a menor)\n",
    "    feature_importance = pd.DataFrame({\"Feature\": feature_names, 'importance': perm_importances, 'Std': perm_std})\n",
    "    feature_importance = feature_importance.sort_values(by = \"importance\", ascending=False)\n",
    "    \n",
    "    feature_importance.reset_index(drop= False, inplace= True)\n",
    "    \n",
    "    return feature_importance"
   ]
  },
  {
   "cell_type": "code",
   "execution_count": null,
   "metadata": {
    "id": "AZLGPdXFb-yc"
   },
   "outputs": [],
   "source": [
    "#Modelo entrenado con Random Forest\n",
    "model_RB = mejor_modelo[\"Trained model\"].values[0]\n",
    "\n",
    "feature_importance = Permutation_importance (model_RB, X_test, y_test, X)\n",
    "\n",
    "#DataFrame con las columnas ordenadas por importancia segun la funcion permutacion\n",
    "feature_importance"
   ]
  },
  {
   "cell_type": "code",
   "execution_count": null,
   "metadata": {
    "id": "MDRWtNiEcCe0"
   },
   "outputs": [],
   "source": [
    "def optimizar_metricas (columns, X_train, X_test, y_train, y_test, mejor_modelo, modelo, feature_importance, X): \n",
    "    \n",
    "    from sklearn.metrics import accuracy_score\n",
    "    from sklearn.metrics import recall_score\n",
    "    \n",
    "    accuracy_0 = mejor_modelo[\"Accuracy\"].iloc[0]\n",
    "    sensibilidad_0 = mejor_modelo[\"Recall\"].iloc[0]\n",
    "    print(f\"El dataframe original tiene un Accuracy: {accuracy_0} y una sensibilidad de {sensibilidad_0}\")\n",
    "    print()\n",
    "    print(\"**********\"*10)\n",
    "    \n",
    "    col_eliminadas_indice = []\n",
    "    col_eliminadas_string = []\n",
    "\n",
    "    columns_total = columns.copy()\n",
    "\n",
    "    Xtrain_Xtest = {}\n",
    "    \n",
    "    accuracy = accuracy_0\n",
    "    i = 1\n",
    "    while (i <= len(columns_total)-1) and (accuracy >= accuracy_0*0.98):\n",
    "        \n",
    "        index_col = feature_importance[\"index\"].iloc[-i]        \n",
    "        col_eliminadas_indice.append(index_col)\n",
    "        \n",
    "        name_col = feature_importance[\"Feature\"].iloc[-i]\n",
    "        col_eliminadas_string.append(name_col)\n",
    "        \n",
    "        columns.remove(name_col)\n",
    "        columns_sel = str ()\n",
    "        \n",
    "        for c in columns:\n",
    "            \n",
    "            columns_sel += c\n",
    "            columns_sel += \", \"\n",
    "        \n",
    "        #Eliminar las columnas de X_train e X_test \n",
    "        \n",
    "        X_train_2 = np.delete(X_train, tuple(col_eliminadas_indice), axis=1)\n",
    "        X_test_2  = np.delete(X_test, tuple(col_eliminadas_indice), axis=1)\n",
    "        X_2 = np.delete(X, tuple(col_eliminadas_indice), axis=1)\n",
    "        \n",
    "        print(f\"Xtrain.shape{X_train_2.shape}\")\n",
    "        print(f\"Xtest.shape{X_test_2.shape}\")\n",
    "\n",
    "        Xtrain_Xtest[X_train_2.shape[1]] = [X_train_2, X_test_2, X_2] #diccionarion[dimension] = [Xtrain, Xtest]\n",
    "\n",
    "        model = modelo # En sklern te sobreescribe.\n",
    "    \n",
    "        #entrenar modelo\n",
    "        model.fit(X_train_2, y_train) # En sklern te sobreescribe.\n",
    "        \n",
    "        #ensayar modelo\n",
    "        yhat = model.predict(X_test_2)\n",
    "\n",
    "        #accuracy\n",
    "        accuracy = accuracy_score(y_test, yhat)\n",
    "        \n",
    "        #sensbilidad \n",
    "        sensibilidad = recall_score(y_test, yhat, average = \"macro\")\n",
    "        \n",
    "        #alternativa = [[\"permutation_importance\"], [model], [accuracy], [sensibilidad], [X_train_2.shape[1]], [columns_sel]]\n",
    "        \n",
    "        #print(alternativa)\n",
    "        #Completar el dataframe con las alternativas\n",
    "        #df = pd.DataFrame(alternativa, columns = [\"Option: Dimensionality reduction\",\"Trained model\",\"Accuracy\",\"Recall\",\"Dataset dimension\",\"Selected features\"])\n",
    "        df = pd.DataFrame({\"Option: Dimensionality reduction\" : \"permutation_importance\", \n",
    "                           \"Trained model\"                    : model,\n",
    "                           \"Accuracy\"                         : accuracy,\n",
    "                           \"Recall\"                           : sensibilidad,\n",
    "                           \"Dataset dimension\"                : X_train_2.shape[1],\n",
    "                           \"Selected features\"                : columns_sel})\n",
    "        df = df.head(1)\n",
    "        \n",
    "        mejor_modelo = pd.concat([mejor_modelo,df])\n",
    "        mejor_modelo.reset_index(drop= True, inplace = True)\n",
    "        \n",
    "        print()\n",
    "        print(f\"El dataset sin las columnas {col_eliminadas_string} tiene un Accuracy: {accuracy} y una sensibilidad de {sensibilidad}\")\n",
    "        print(f\"Dimensionalidad del dataset {X_train_2.shape[1]}\")\n",
    "        print()\n",
    "        print(\"**********\"*10)\n",
    "        print()\n",
    "        \n",
    "        i += 1\n",
    "        \n",
    "    dim_mejor = mejor_modelo.sort_values(by = [\"Recall\", \"Accuracy\"], ascending = False).head(1)[\"Dataset dimension\"].values[0]\n",
    "    \n",
    "    if dim_mejor in Xtrain_Xtest.keys():\n",
    "        X_train_2_mejor = Xtrain_Xtest[dim_mejor][0]\n",
    "        X_test_2_mejor = Xtrain_Xtest[dim_mejor][1]\n",
    "        X_2_mejor = Xtrain_Xtest[dim_mejor][2]\n",
    "    else:\n",
    "        X_train_2_mejor = X_train\n",
    "        X_test_2_mejor = X_test\n",
    "        X_2_mejor = X\n",
    "        \n",
    "    return mejor_modelo, X_train_2_mejor, X_test_2_mejor, X_2_mejor"
   ]
  },
  {
   "cell_type": "code",
   "execution_count": null,
   "metadata": {
    "id": "JFtBzqDPcMb7"
   },
   "outputs": [],
   "source": [
    "columns = X.columns.tolist()\n",
    "\n",
    "modelo = RandomForestClassifier(random_state=42) #Colocar el mejor modelo\n",
    "\n",
    "#X_train_2 y X_test_2 son los conjuntos de datos del modelo con las mejores metricas\n",
    "mejor_modelo, X_train_2, X_test_2, X_2 = optimizar_metricas (columns, X_train, X_test, y_train, y_test, mejor_modelo, modelo, feature_importance, X.to_numpy())"
   ]
  },
  {
   "cell_type": "code",
   "execution_count": null,
   "metadata": {},
   "outputs": [],
   "source": [
    "#Guardar dataframe\n",
    "mejor_modelo.to_csv('.csv') "
   ]
  },
  {
   "cell_type": "code",
   "execution_count": null,
   "metadata": {},
   "outputs": [],
   "source": [
    "#X de entrenamiento y de test\n",
    "print(\"Datos de X de entrenamiento y de test del mejor modelo\")\n",
    "print(f\"X_train_2.shape{X_train_2.shape}\")\n",
    "print(f\"X_test_2.shape{X_test_2.shape}\")"
   ]
  },
  {
   "cell_type": "code",
   "execution_count": null,
   "metadata": {},
   "outputs": [],
   "source": [
    "print(\"El mejor modelo es:\")\n",
    "mejor_modelo.sort_values(by = [\"Recall\", \"Accuracy\"], ascending = False).head(1)"
   ]
  },
  {
   "cell_type": "code",
   "execution_count": null,
   "metadata": {
    "id": "ZFuhAE6McNrA"
   },
   "outputs": [],
   "source": [
    "# Se imprimen las dos mejores alternativas.\n",
    "\n",
    "mejor_modelo.sort_values(by = [\"Recall\", \"Accuracy\"], ascending = False).head(2)"
   ]
  },
  {
   "cell_type": "markdown",
   "metadata": {
    "id": "P7Ep6siJyumX"
   },
   "source": [
    "<a name=\"item6_r4\"></a>\n",
    "## 6. Tuning\n",
    "\n",
    "Ahora:\n",
    " Xtrain = X_train_2 \n",
    " Xtest = X_test_2\n",
    "\n",
    "Mientras que y_train e y_test, son las mismas\n"
   ]
  },
  {
   "cell_type": "code",
   "execution_count": null,
   "metadata": {},
   "outputs": [],
   "source": [
    "modelo = mejor_modelo[\"Trained model\"].values[0]"
   ]
  },
  {
   "cell_type": "code",
   "execution_count": null,
   "metadata": {
    "colab": {
     "base_uri": "https://localhost:8080/",
     "height": 235
    },
    "id": "J6Rv33XeffxM",
    "outputId": "68ab8b6c-b4a6-49fc-abe8-a895008fdc2d"
   },
   "outputs": [],
   "source": [
    "# Max depth\n",
    "\n",
    "from collections import Counter \n",
    "print(Counter([x.get_depth() for x in modelo.estimators_])) #estima las mejores caracteristicas del modelo\n",
    "\n",
    "import matplotlib.pyplot as plt\n",
    "import seaborn as sns \n",
    "sns.histplot([x.get_depth() for x in modelo.estimators_])\n",
    "plt.show()"
   ]
  },
  {
   "cell_type": "code",
   "execution_count": null,
   "metadata": {},
   "outputs": [],
   "source": [
    "rango_maxdepth = [x for x in range(35, 45, 3)]\n",
    "rango_maxdepth\n",
    "\n",
    "rango_maxdepth.append(None)"
   ]
  },
  {
   "cell_type": "code",
   "execution_count": null,
   "metadata": {
    "colab": {
     "base_uri": "https://localhost:8080/",
     "height": 235
    },
    "id": "Ep5JE2u7fgKq",
    "outputId": "7c9c2a9e-652d-40f2-e110-7a4e2bd6add7"
   },
   "outputs": [],
   "source": [
    "# N Leave\n",
    "\n",
    "print(Counter([x.get_n_leaves() for x in modelo.estimators_])) #determinar max nodos del arbol\n",
    "\n",
    "sns.histplot([x.get_n_leaves() for x in modelo.estimators_])\n",
    "plt.show()"
   ]
  },
  {
   "cell_type": "code",
   "execution_count": null,
   "metadata": {},
   "outputs": [],
   "source": [
    "rango_nleaves = [x for x in range(33500, 34200, 200)]\n",
    "rango_nleaves"
   ]
  },
  {
   "cell_type": "code",
   "execution_count": null,
   "metadata": {
    "id": "1qh2amhigHS6"
   },
   "outputs": [],
   "source": [
    "%%time\n",
    "from sklearn.model_selection import GridSearchCV\n",
    "modelo = RandomForestClassifier()\n",
    "\n",
    "params = {\"n_estimators\"           : [100, 200, 300], #cantidad de arboles, opcion de default es 100\n",
    "          \"criterion\"              : [\"gini\", \"entropy\"],\n",
    "          \"max_depth\"              : rango_maxdepth, #default = none\n",
    "          \"max_features\"           : [\"sqrt\", \"log2\", None], #num de atributos a tener en cuenta en cada uno, none = toma como max la cantidad total\n",
    "          \"min_samples_split\"      : [0.1, 0.2, 2], #% min tiene que haber en cada lado del nodo, cantidad de filas minimas que tienne que ir a cada lado, default es 2. Para que el nodo exista, minimo se tiene que ir dos filas por un lado, y el resto para el otro, para que se crea la fila. Si pongo con con coma (float) se refiere a porcentaje, por ej 0.1 quiere decir que el 10 % se tiene que ir para un lado del nodo, y el 90 % para el otro. Si pongo numero entero, son numeros de filas.\n",
    "          \"random_state\"           : [42]}\n",
    "\n",
    "scorers = {\"recall_macro\", \"accuracy\"}\n",
    "\n",
    "grid_solver = GridSearchCV(estimator  = model,\n",
    "                           param_grid = params,\n",
    "                           scoring    = scorers,\n",
    "                           cv         = 5,\n",
    "                           refit      = \"recall_macro\",\n",
    "                           n_jobs     = -1,\n",
    "                           verbose    = 3)\n",
    "\n",
    "model_result = grid_solver.fit(X_train, y_train)\n",
    "\n",
    "# REVISION: Usar X e y completos, ya GridSearch hace Validación"
   ]
  },
  {
   "cell_type": "code",
   "execution_count": null,
   "metadata": {},
   "outputs": [],
   "source": [
    "import joblib  \n",
    "joblib.dump(model_result, 'modelo_entrenado.pkl') # Guardo el modelo."
   ]
  },
  {
   "cell_type": "code",
   "execution_count": null,
   "metadata": {},
   "outputs": [],
   "source": [
    "print(model_result.cv_results_[\"mean_test_recall_macro\"].mean())\n",
    "print(model_result.cv_results_[\"mean_test_accuracy\"].mean())\n",
    "print(\"*\"*30)\n",
    "print(model_result.best_score_)\n",
    "print(model_result.best_params_)"
   ]
  },
  {
   "cell_type": "code",
   "execution_count": null,
   "metadata": {},
   "outputs": [],
   "source": [
    "X_train.shape "
   ]
  },
  {
   "cell_type": "code",
   "execution_count": null,
   "metadata": {
    "colab": {
     "base_uri": "https://localhost:8080/",
     "height": 253
    },
    "id": "O59F19v2gXTG",
    "outputId": "125abb04-2414-44cf-de1f-b7fed07b58e2"
   },
   "outputs": [],
   "source": [
    "import pickle\n",
    "mejor_modelo = RandomForestClassifier(**model_result.best_params_)\n",
    "\n",
    "# Volver a entrenar el modelo con todos los datos para que pueda predecir datos nuevos con mayor precisión.\n",
    "mejor_modelo.fit(X_train, y_train)\n",
    "\n",
    "with open(\"mejor_modelo.pkl\", \"bw\") as file: \n",
    "    pickle.dump(mejor_modelo, file)\n",
    "    \n",
    "joblib.dump(mejor_modelo, 'modelo2_entrenado.pkl') "
   ]
  },
  {
   "cell_type": "markdown",
   "metadata": {
    "id": "tE9U9ApvytWK"
   },
   "source": [
    "<a name=\"item7_r4\"></a>\n",
    "## 7. Resultados y Conclusiones"
   ]
  },
  {
   "cell_type": "code",
   "execution_count": null,
   "metadata": {
    "id": "vIYE1JNtyyX1"
   },
   "outputs": [],
   "source": [
    "from sklearn.model_selection import StratifiedKFold"
   ]
  },
  {
   "cell_type": "code",
   "execution_count": null,
   "metadata": {
    "id": "6eCPizMZyzRv"
   },
   "outputs": [],
   "source": [
    "%%time\n",
    "y_real, yhat = evaluacion(X_2,y,mejor_modelo,5)\n",
    "metricas(yhat,y_real)"
   ]
  },
  {
   "cell_type": "code",
   "execution_count": null,
   "metadata": {
    "id": "hTXBhMlsyzXd"
   },
   "outputs": [],
   "source": []
  }
 ],
 "metadata": {
  "colab": {
   "provenance": []
  },
  "kernelspec": {
   "display_name": "Python 3 (ipykernel)",
   "language": "python",
   "name": "python3"
  },
  "language_info": {
   "codemirror_mode": {
    "name": "ipython",
    "version": 3
   },
   "file_extension": ".py",
   "mimetype": "text/x-python",
   "name": "python",
   "nbconvert_exporter": "python",
   "pygments_lexer": "ipython3",
   "version": "3.9.13"
  }
 },
 "nbformat": 4,
 "nbformat_minor": 1
}
